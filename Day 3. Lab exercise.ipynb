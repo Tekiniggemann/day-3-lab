{
 "cells": [
  {
   "cell_type": "code",
   "execution_count": 1,
   "id": "9a4eb5b7",
   "metadata": {},
   "outputs": [
    {
     "data": {
      "text/html": [
       "<div>\n",
       "<style scoped>\n",
       "    .dataframe tbody tr th:only-of-type {\n",
       "        vertical-align: middle;\n",
       "    }\n",
       "\n",
       "    .dataframe tbody tr th {\n",
       "        vertical-align: top;\n",
       "    }\n",
       "\n",
       "    .dataframe thead th {\n",
       "        text-align: right;\n",
       "    }\n",
       "</style>\n",
       "<table border=\"1\" class=\"dataframe\">\n",
       "  <thead>\n",
       "    <tr style=\"text-align: right;\">\n",
       "      <th></th>\n",
       "      <th>Unnamed: 0</th>\n",
       "      <th>Customer</th>\n",
       "      <th>State</th>\n",
       "      <th>Customer Lifetime Value</th>\n",
       "      <th>Response</th>\n",
       "      <th>Coverage</th>\n",
       "      <th>Education</th>\n",
       "      <th>Effective To Date</th>\n",
       "      <th>EmploymentStatus</th>\n",
       "      <th>Gender</th>\n",
       "      <th>...</th>\n",
       "      <th>Number of Open Complaints</th>\n",
       "      <th>Number of Policies</th>\n",
       "      <th>Policy Type</th>\n",
       "      <th>Policy</th>\n",
       "      <th>Renew Offer Type</th>\n",
       "      <th>Sales Channel</th>\n",
       "      <th>Total Claim Amount</th>\n",
       "      <th>Vehicle Class</th>\n",
       "      <th>Vehicle Size</th>\n",
       "      <th>Vehicle Type</th>\n",
       "    </tr>\n",
       "  </thead>\n",
       "  <tbody>\n",
       "    <tr>\n",
       "      <th>0</th>\n",
       "      <td>0</td>\n",
       "      <td>DK49336</td>\n",
       "      <td>Arizona</td>\n",
       "      <td>4809.216960</td>\n",
       "      <td>No</td>\n",
       "      <td>Basic</td>\n",
       "      <td>College</td>\n",
       "      <td>2/18/11</td>\n",
       "      <td>Employed</td>\n",
       "      <td>M</td>\n",
       "      <td>...</td>\n",
       "      <td>0.0</td>\n",
       "      <td>9</td>\n",
       "      <td>Corporate Auto</td>\n",
       "      <td>Corporate L3</td>\n",
       "      <td>Offer3</td>\n",
       "      <td>Agent</td>\n",
       "      <td>292.800000</td>\n",
       "      <td>Four-Door Car</td>\n",
       "      <td>Medsize</td>\n",
       "      <td>NaN</td>\n",
       "    </tr>\n",
       "    <tr>\n",
       "      <th>1</th>\n",
       "      <td>1</td>\n",
       "      <td>KX64629</td>\n",
       "      <td>California</td>\n",
       "      <td>2228.525238</td>\n",
       "      <td>No</td>\n",
       "      <td>Basic</td>\n",
       "      <td>College</td>\n",
       "      <td>1/18/11</td>\n",
       "      <td>Unemployed</td>\n",
       "      <td>F</td>\n",
       "      <td>...</td>\n",
       "      <td>0.0</td>\n",
       "      <td>1</td>\n",
       "      <td>Personal Auto</td>\n",
       "      <td>Personal L3</td>\n",
       "      <td>Offer4</td>\n",
       "      <td>Call Center</td>\n",
       "      <td>744.924331</td>\n",
       "      <td>Four-Door Car</td>\n",
       "      <td>Medsize</td>\n",
       "      <td>NaN</td>\n",
       "    </tr>\n",
       "    <tr>\n",
       "      <th>2</th>\n",
       "      <td>2</td>\n",
       "      <td>LZ68649</td>\n",
       "      <td>Washington</td>\n",
       "      <td>14947.917300</td>\n",
       "      <td>No</td>\n",
       "      <td>Basic</td>\n",
       "      <td>Bachelor</td>\n",
       "      <td>2/10/11</td>\n",
       "      <td>Employed</td>\n",
       "      <td>M</td>\n",
       "      <td>...</td>\n",
       "      <td>0.0</td>\n",
       "      <td>2</td>\n",
       "      <td>Personal Auto</td>\n",
       "      <td>Personal L3</td>\n",
       "      <td>Offer3</td>\n",
       "      <td>Call Center</td>\n",
       "      <td>480.000000</td>\n",
       "      <td>SUV</td>\n",
       "      <td>Medsize</td>\n",
       "      <td>A</td>\n",
       "    </tr>\n",
       "    <tr>\n",
       "      <th>3</th>\n",
       "      <td>3</td>\n",
       "      <td>XL78013</td>\n",
       "      <td>Oregon</td>\n",
       "      <td>22332.439460</td>\n",
       "      <td>Yes</td>\n",
       "      <td>Extended</td>\n",
       "      <td>College</td>\n",
       "      <td>1/11/11</td>\n",
       "      <td>Employed</td>\n",
       "      <td>M</td>\n",
       "      <td>...</td>\n",
       "      <td>0.0</td>\n",
       "      <td>2</td>\n",
       "      <td>Corporate Auto</td>\n",
       "      <td>Corporate L3</td>\n",
       "      <td>Offer2</td>\n",
       "      <td>Branch</td>\n",
       "      <td>484.013411</td>\n",
       "      <td>Four-Door Car</td>\n",
       "      <td>Medsize</td>\n",
       "      <td>A</td>\n",
       "    </tr>\n",
       "    <tr>\n",
       "      <th>4</th>\n",
       "      <td>4</td>\n",
       "      <td>QA50777</td>\n",
       "      <td>Oregon</td>\n",
       "      <td>9025.067525</td>\n",
       "      <td>No</td>\n",
       "      <td>Premium</td>\n",
       "      <td>Bachelor</td>\n",
       "      <td>1/17/11</td>\n",
       "      <td>Medical Leave</td>\n",
       "      <td>F</td>\n",
       "      <td>...</td>\n",
       "      <td>NaN</td>\n",
       "      <td>7</td>\n",
       "      <td>Personal Auto</td>\n",
       "      <td>Personal L2</td>\n",
       "      <td>Offer1</td>\n",
       "      <td>Branch</td>\n",
       "      <td>707.925645</td>\n",
       "      <td>Four-Door Car</td>\n",
       "      <td>Medsize</td>\n",
       "      <td>NaN</td>\n",
       "    </tr>\n",
       "  </tbody>\n",
       "</table>\n",
       "<p>5 rows × 26 columns</p>\n",
       "</div>"
      ],
      "text/plain": [
       "   Unnamed: 0 Customer       State  Customer Lifetime Value Response  \\\n",
       "0           0  DK49336     Arizona              4809.216960       No   \n",
       "1           1  KX64629  California              2228.525238       No   \n",
       "2           2  LZ68649  Washington             14947.917300       No   \n",
       "3           3  XL78013      Oregon             22332.439460      Yes   \n",
       "4           4  QA50777      Oregon              9025.067525       No   \n",
       "\n",
       "   Coverage Education Effective To Date EmploymentStatus Gender  ...  \\\n",
       "0     Basic   College           2/18/11         Employed      M  ...   \n",
       "1     Basic   College           1/18/11       Unemployed      F  ...   \n",
       "2     Basic  Bachelor           2/10/11         Employed      M  ...   \n",
       "3  Extended   College           1/11/11         Employed      M  ...   \n",
       "4   Premium  Bachelor           1/17/11    Medical Leave      F  ...   \n",
       "\n",
       "   Number of Open Complaints Number of Policies     Policy Type        Policy  \\\n",
       "0                        0.0                  9  Corporate Auto  Corporate L3   \n",
       "1                        0.0                  1   Personal Auto   Personal L3   \n",
       "2                        0.0                  2   Personal Auto   Personal L3   \n",
       "3                        0.0                  2  Corporate Auto  Corporate L3   \n",
       "4                        NaN                  7   Personal Auto   Personal L2   \n",
       "\n",
       "   Renew Offer Type  Sales Channel  Total Claim Amount  Vehicle Class  \\\n",
       "0            Offer3          Agent          292.800000  Four-Door Car   \n",
       "1            Offer4    Call Center          744.924331  Four-Door Car   \n",
       "2            Offer3    Call Center          480.000000            SUV   \n",
       "3            Offer2         Branch          484.013411  Four-Door Car   \n",
       "4            Offer1         Branch          707.925645  Four-Door Car   \n",
       "\n",
       "  Vehicle Size Vehicle Type  \n",
       "0      Medsize          NaN  \n",
       "1      Medsize          NaN  \n",
       "2      Medsize            A  \n",
       "3      Medsize            A  \n",
       "4      Medsize          NaN  \n",
       "\n",
       "[5 rows x 26 columns]"
      ]
     },
     "metadata": {},
     "output_type": "display_data"
    },
    {
     "data": {
      "text/plain": [
       "(10910, 26)"
      ]
     },
     "metadata": {},
     "output_type": "display_data"
    }
   ],
   "source": [
    "import pandas as pd\n",
    "import numpy as np\n",
    "file = pd.read_csv('./marketing_customer_analysis.csv')\n",
    "display(file.head())\n",
    "display(file.shape)"
   ]
  },
  {
   "cell_type": "code",
   "execution_count": 2,
   "id": "0518fcb7",
   "metadata": {},
   "outputs": [
    {
     "name": "stdout",
     "output_type": "stream",
     "text": [
      "<class 'pandas.core.frame.DataFrame'>\n",
      "RangeIndex: 10910 entries, 0 to 10909\n",
      "Data columns (total 26 columns):\n",
      " #   Column                         Non-Null Count  Dtype  \n",
      "---  ------                         --------------  -----  \n",
      " 0   Unnamed: 0                     10910 non-null  int64  \n",
      " 1   Customer                       10910 non-null  object \n",
      " 2   State                          10279 non-null  object \n",
      " 3   Customer Lifetime Value        10910 non-null  float64\n",
      " 4   Response                       10279 non-null  object \n",
      " 5   Coverage                       10910 non-null  object \n",
      " 6   Education                      10910 non-null  object \n",
      " 7   Effective To Date              10910 non-null  object \n",
      " 8   EmploymentStatus               10910 non-null  object \n",
      " 9   Gender                         10910 non-null  object \n",
      " 10  Income                         10910 non-null  int64  \n",
      " 11  Location Code                  10910 non-null  object \n",
      " 12  Marital Status                 10910 non-null  object \n",
      " 13  Monthly Premium Auto           10910 non-null  int64  \n",
      " 14  Months Since Last Claim        10277 non-null  float64\n",
      " 15  Months Since Policy Inception  10910 non-null  int64  \n",
      " 16  Number of Open Complaints      10277 non-null  float64\n",
      " 17  Number of Policies             10910 non-null  int64  \n",
      " 18  Policy Type                    10910 non-null  object \n",
      " 19  Policy                         10910 non-null  object \n",
      " 20  Renew Offer Type               10910 non-null  object \n",
      " 21  Sales Channel                  10910 non-null  object \n",
      " 22  Total Claim Amount             10910 non-null  float64\n",
      " 23  Vehicle Class                  10288 non-null  object \n",
      " 24  Vehicle Size                   10288 non-null  object \n",
      " 25  Vehicle Type                   5428 non-null   object \n",
      "dtypes: float64(4), int64(5), object(17)\n",
      "memory usage: 2.2+ MB\n"
     ]
    }
   ],
   "source": [
    "file.info()"
   ]
  },
  {
   "cell_type": "code",
   "execution_count": 3,
   "id": "47ac9670",
   "metadata": {},
   "outputs": [
    {
     "data": {
      "text/html": [
       "<div>\n",
       "<style scoped>\n",
       "    .dataframe tbody tr th:only-of-type {\n",
       "        vertical-align: middle;\n",
       "    }\n",
       "\n",
       "    .dataframe tbody tr th {\n",
       "        vertical-align: top;\n",
       "    }\n",
       "\n",
       "    .dataframe thead th {\n",
       "        text-align: right;\n",
       "    }\n",
       "</style>\n",
       "<table border=\"1\" class=\"dataframe\">\n",
       "  <thead>\n",
       "    <tr style=\"text-align: right;\">\n",
       "      <th></th>\n",
       "      <th>Unnamed: 0</th>\n",
       "      <th>Customer Lifetime Value</th>\n",
       "      <th>Income</th>\n",
       "      <th>Monthly Premium Auto</th>\n",
       "      <th>Months Since Last Claim</th>\n",
       "      <th>Months Since Policy Inception</th>\n",
       "      <th>Number of Open Complaints</th>\n",
       "      <th>Number of Policies</th>\n",
       "      <th>Total Claim Amount</th>\n",
       "    </tr>\n",
       "  </thead>\n",
       "  <tbody>\n",
       "    <tr>\n",
       "      <th>count</th>\n",
       "      <td>10910.000000</td>\n",
       "      <td>10910.000000</td>\n",
       "      <td>10910.000000</td>\n",
       "      <td>10910.000000</td>\n",
       "      <td>10277.000000</td>\n",
       "      <td>10910.000000</td>\n",
       "      <td>10277.000000</td>\n",
       "      <td>10910.000000</td>\n",
       "      <td>10910.000000</td>\n",
       "    </tr>\n",
       "    <tr>\n",
       "      <th>mean</th>\n",
       "      <td>5454.500000</td>\n",
       "      <td>8018.241094</td>\n",
       "      <td>37536.284785</td>\n",
       "      <td>93.196059</td>\n",
       "      <td>15.149071</td>\n",
       "      <td>48.091934</td>\n",
       "      <td>0.384256</td>\n",
       "      <td>2.979193</td>\n",
       "      <td>434.888330</td>\n",
       "    </tr>\n",
       "    <tr>\n",
       "      <th>std</th>\n",
       "      <td>3149.590053</td>\n",
       "      <td>6885.081434</td>\n",
       "      <td>30359.195670</td>\n",
       "      <td>34.442532</td>\n",
       "      <td>10.080349</td>\n",
       "      <td>27.940675</td>\n",
       "      <td>0.912457</td>\n",
       "      <td>2.399359</td>\n",
       "      <td>292.180556</td>\n",
       "    </tr>\n",
       "    <tr>\n",
       "      <th>min</th>\n",
       "      <td>0.000000</td>\n",
       "      <td>1898.007675</td>\n",
       "      <td>0.000000</td>\n",
       "      <td>61.000000</td>\n",
       "      <td>0.000000</td>\n",
       "      <td>0.000000</td>\n",
       "      <td>0.000000</td>\n",
       "      <td>1.000000</td>\n",
       "      <td>0.099007</td>\n",
       "    </tr>\n",
       "    <tr>\n",
       "      <th>25%</th>\n",
       "      <td>2727.250000</td>\n",
       "      <td>4014.453113</td>\n",
       "      <td>0.000000</td>\n",
       "      <td>68.000000</td>\n",
       "      <td>6.000000</td>\n",
       "      <td>24.000000</td>\n",
       "      <td>0.000000</td>\n",
       "      <td>1.000000</td>\n",
       "      <td>271.082527</td>\n",
       "    </tr>\n",
       "    <tr>\n",
       "      <th>50%</th>\n",
       "      <td>5454.500000</td>\n",
       "      <td>5771.147235</td>\n",
       "      <td>33813.500000</td>\n",
       "      <td>83.000000</td>\n",
       "      <td>14.000000</td>\n",
       "      <td>48.000000</td>\n",
       "      <td>0.000000</td>\n",
       "      <td>2.000000</td>\n",
       "      <td>382.564630</td>\n",
       "    </tr>\n",
       "    <tr>\n",
       "      <th>75%</th>\n",
       "      <td>8181.750000</td>\n",
       "      <td>8992.779137</td>\n",
       "      <td>62250.750000</td>\n",
       "      <td>109.000000</td>\n",
       "      <td>23.000000</td>\n",
       "      <td>71.000000</td>\n",
       "      <td>0.000000</td>\n",
       "      <td>4.000000</td>\n",
       "      <td>547.200000</td>\n",
       "    </tr>\n",
       "    <tr>\n",
       "      <th>max</th>\n",
       "      <td>10909.000000</td>\n",
       "      <td>83325.381190</td>\n",
       "      <td>99981.000000</td>\n",
       "      <td>298.000000</td>\n",
       "      <td>35.000000</td>\n",
       "      <td>99.000000</td>\n",
       "      <td>5.000000</td>\n",
       "      <td>9.000000</td>\n",
       "      <td>2893.239678</td>\n",
       "    </tr>\n",
       "  </tbody>\n",
       "</table>\n",
       "</div>"
      ],
      "text/plain": [
       "         Unnamed: 0  Customer Lifetime Value        Income  \\\n",
       "count  10910.000000             10910.000000  10910.000000   \n",
       "mean    5454.500000              8018.241094  37536.284785   \n",
       "std     3149.590053              6885.081434  30359.195670   \n",
       "min        0.000000              1898.007675      0.000000   \n",
       "25%     2727.250000              4014.453113      0.000000   \n",
       "50%     5454.500000              5771.147235  33813.500000   \n",
       "75%     8181.750000              8992.779137  62250.750000   \n",
       "max    10909.000000             83325.381190  99981.000000   \n",
       "\n",
       "       Monthly Premium Auto  Months Since Last Claim  \\\n",
       "count          10910.000000             10277.000000   \n",
       "mean              93.196059                15.149071   \n",
       "std               34.442532                10.080349   \n",
       "min               61.000000                 0.000000   \n",
       "25%               68.000000                 6.000000   \n",
       "50%               83.000000                14.000000   \n",
       "75%              109.000000                23.000000   \n",
       "max              298.000000                35.000000   \n",
       "\n",
       "       Months Since Policy Inception  Number of Open Complaints  \\\n",
       "count                   10910.000000               10277.000000   \n",
       "mean                       48.091934                   0.384256   \n",
       "std                        27.940675                   0.912457   \n",
       "min                         0.000000                   0.000000   \n",
       "25%                        24.000000                   0.000000   \n",
       "50%                        48.000000                   0.000000   \n",
       "75%                        71.000000                   0.000000   \n",
       "max                        99.000000                   5.000000   \n",
       "\n",
       "       Number of Policies  Total Claim Amount  \n",
       "count        10910.000000        10910.000000  \n",
       "mean             2.979193          434.888330  \n",
       "std              2.399359          292.180556  \n",
       "min              1.000000            0.099007  \n",
       "25%              1.000000          271.082527  \n",
       "50%              2.000000          382.564630  \n",
       "75%              4.000000          547.200000  \n",
       "max              9.000000         2893.239678  "
      ]
     },
     "execution_count": 3,
     "metadata": {},
     "output_type": "execute_result"
    }
   ],
   "source": [
    "file.describe()"
   ]
  },
  {
   "cell_type": "code",
   "execution_count": 4,
   "id": "dd0b871d",
   "metadata": {},
   "outputs": [],
   "source": [
    "import matplotlib.pyplot as plt\n",
    "import seaborn as sns \n",
    "%matplotlib inline"
   ]
  },
  {
   "cell_type": "code",
   "execution_count": 5,
   "id": "61c08384",
   "metadata": {},
   "outputs": [
    {
     "data": {
      "image/png": "[encoded data removed]",
      "text/plain": [
       "<Figure size 432x288 with 1 Axes>"
      ]
     },
     "metadata": {
      "needs_background": "light"
     },
     "output_type": "display_data"
    }
   ],
   "source": [
    "sns.countplot(data=file, x=\"Response\")\n",
    "plt.show()\n",
    "# we can see the total number of responses."
   ]
  },
  {
   "cell_type": "code",
   "execution_count": 18,
   "id": "d574a6ca",
   "metadata": {},
   "outputs": [
    {
     "data": {
      "text/plain": [
       "<AxesSubplot:xlabel='Sales Channel', ylabel='Probability'>"
      ]
     },
     "execution_count": 18,
     "metadata": {},
     "output_type": "execute_result"
    },
    {
     "data": {
      "image/png": "[encoded data removed]",
      "text/plain": [
       "<Figure size 432x288 with 1 Axes>"
      ]
     },
     "metadata": {
      "needs_background": "light"
     },
     "output_type": "display_data"
    }
   ],
   "source": [
    "sns.histplot(data=file, x='Sales Channel', hue='Response', stat='probability', multiple=\"fill\")"
   ]
  },
  {
   "cell_type": "code",
   "execution_count": 19,
   "id": "bd79fc84",
   "metadata": {},
   "outputs": [
    {
     "data": {
      "text/plain": [
       "<AxesSubplot:xlabel='Response', ylabel='Total Claim Amount'>"
      ]
     },
     "execution_count": 19,
     "metadata": {},
     "output_type": "execute_result"
    },
    {
     "data": {
      "image/png": "[encoded data removed]",
      "text/plain": [
       "<Figure size 432x288 with 1 Axes>"
      ]
     },
     "metadata": {
      "needs_background": "light"
     },
     "output_type": "display_data"
    }
   ],
   "source": [
    "sns.barplot(x=\"Response\", y=\"Total Claim Amount\", data=file)"
   ]
  },
  {
   "cell_type": "code",
   "execution_count": 21,
   "id": "eef0a99a",
   "metadata": {},
   "outputs": [
    {
     "data": {
      "text/plain": [
       "<AxesSubplot:xlabel='Response', ylabel='Income'>"
      ]
     },
     "execution_count": 21,
     "metadata": {},
     "output_type": "execute_result"
    },
    {
     "data": {
      "image/png": "[encoded data removed]",
      "text/plain": [
       "<Figure size 432x288 with 1 Axes>"
      ]
     },
     "metadata": {
      "needs_background": "light"
     },
     "output_type": "display_data"
    }
   ],
   "source": [
    "sns.barplot(x=\"Response\", y=\"Income\", data=file)"
   ]
  },
  {
   "cell_type": "code",
   "execution_count": null,
   "id": "7f46457b",
   "metadata": {},
   "outputs": [],
   "source": []
  }
 ],
 "metadata": {
  "kernelspec": {
   "display_name": "Python 3",
   "language": "python",
   "name": "python3"
  },
  "language_info": {
   "codemirror_mode": {
    "name": "ipython",
    "version": 3
   },
   "file_extension": ".py",
   "mimetype": "text/x-python",
   "name": "python",
   "nbconvert_exporter": "python",
   "pygments_lexer": "ipython3",
   "version": "3.8.8"
  }
 },
 "nbformat": 4,
 "nbformat_minor": 5
}
